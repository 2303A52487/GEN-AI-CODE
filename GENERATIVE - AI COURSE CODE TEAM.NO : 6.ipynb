{
  "nbformat": 4,
  "nbformat_minor": 0,
  "metadata": {
    "colab": {
      "provenance": [],
      "authorship_tag": "ABX9TyOFs2NXZOGyIKwhyq8wnq5V",
      "include_colab_link": true
    },
    "kernelspec": {
      "name": "python3",
      "display_name": "Python 3"
    },
    "language_info": {
      "name": "python"
    }
  },
  "cells": [
    {
      "cell_type": "markdown",
      "metadata": {
        "id": "view-in-github",
        "colab_type": "text"
      },
      "source": [
        "<a href=\"https://colab.research.google.com/github/2303A52487/GEN-AI-CODE/blob/main/GENERATIVE%20-%20AI%20COURSE%20CODE%20TEAM.NO%20%3A%206.ipynb\" target=\"_parent\"><img src=\"https://colab.research.google.com/assets/colab-badge.svg\" alt=\"Open In Colab\"/></a>"
      ]
    },
    {
      "cell_type": "code",
      "execution_count": null,
      "metadata": {
        "colab": {
          "base_uri": "https://localhost:8080/",
          "height": 712
        },
        "id": "fo3ppO5u3wHm",
        "outputId": "3b74910d-985d-48a8-bb71-fc2459c2ec31"
      },
      "outputs": [
        {
          "output_type": "stream",
          "name": "stdout",
          "text": [
            "Collecting en-core-web-sm==3.8.0\n",
            "  Downloading https://github.com/explosion/spacy-models/releases/download/en_core_web_sm-3.8.0/en_core_web_sm-3.8.0-py3-none-any.whl (12.8 MB)\n",
            "\u001b[2K     \u001b[90m━━━━━━━━━━━━━━━━━━━━━━━━━━━━━━━━━━━━━━━━\u001b[0m \u001b[32m12.8/12.8 MB\u001b[0m \u001b[31m43.9 MB/s\u001b[0m eta \u001b[36m0:00:00\u001b[0m\n",
            "\u001b[?25h\u001b[38;5;2m✔ Download and installation successful\u001b[0m\n",
            "You can now load the package via spacy.load('en_core_web_sm')\n",
            "\u001b[38;5;3m⚠ Restart to reload dependencies\u001b[0m\n",
            "If you are in a Jupyter or Colab notebook, you may need to restart Python in\n",
            "order to load all the package's dependencies. You can do this by selecting the\n",
            "'Restart kernel' or 'Restart runtime' option.\n"
          ]
        },
        {
          "output_type": "display_data",
          "data": {
            "text/plain": [
              "<IPython.core.display.HTML object>"
            ],
            "text/html": [
              "\n",
              "     <input type=\"file\" id=\"files-13451c86-64de-4a35-b2fa-a3086a96ac55\" name=\"files[]\" multiple disabled\n",
              "        style=\"border:none\" />\n",
              "     <output id=\"result-13451c86-64de-4a35-b2fa-a3086a96ac55\">\n",
              "      Upload widget is only available when the cell has been executed in the\n",
              "      current browser session. Please rerun this cell to enable.\n",
              "      </output>\n",
              "      <script>// Copyright 2017 Google LLC\n",
              "//\n",
              "// Licensed under the Apache License, Version 2.0 (the \"License\");\n",
              "// you may not use this file except in compliance with the License.\n",
              "// You may obtain a copy of the License at\n",
              "//\n",
              "//      http://www.apache.org/licenses/LICENSE-2.0\n",
              "//\n",
              "// Unless required by applicable law or agreed to in writing, software\n",
              "// distributed under the License is distributed on an \"AS IS\" BASIS,\n",
              "// WITHOUT WARRANTIES OR CONDITIONS OF ANY KIND, either express or implied.\n",
              "// See the License for the specific language governing permissions and\n",
              "// limitations under the License.\n",
              "\n",
              "/**\n",
              " * @fileoverview Helpers for google.colab Python module.\n",
              " */\n",
              "(function(scope) {\n",
              "function span(text, styleAttributes = {}) {\n",
              "  const element = document.createElement('span');\n",
              "  element.textContent = text;\n",
              "  for (const key of Object.keys(styleAttributes)) {\n",
              "    element.style[key] = styleAttributes[key];\n",
              "  }\n",
              "  return element;\n",
              "}\n",
              "\n",
              "// Max number of bytes which will be uploaded at a time.\n",
              "const MAX_PAYLOAD_SIZE = 100 * 1024;\n",
              "\n",
              "function _uploadFiles(inputId, outputId) {\n",
              "  const steps = uploadFilesStep(inputId, outputId);\n",
              "  const outputElement = document.getElementById(outputId);\n",
              "  // Cache steps on the outputElement to make it available for the next call\n",
              "  // to uploadFilesContinue from Python.\n",
              "  outputElement.steps = steps;\n",
              "\n",
              "  return _uploadFilesContinue(outputId);\n",
              "}\n",
              "\n",
              "// This is roughly an async generator (not supported in the browser yet),\n",
              "// where there are multiple asynchronous steps and the Python side is going\n",
              "// to poll for completion of each step.\n",
              "// This uses a Promise to block the python side on completion of each step,\n",
              "// then passes the result of the previous step as the input to the next step.\n",
              "function _uploadFilesContinue(outputId) {\n",
              "  const outputElement = document.getElementById(outputId);\n",
              "  const steps = outputElement.steps;\n",
              "\n",
              "  const next = steps.next(outputElement.lastPromiseValue);\n",
              "  return Promise.resolve(next.value.promise).then((value) => {\n",
              "    // Cache the last promise value to make it available to the next\n",
              "    // step of the generator.\n",
              "    outputElement.lastPromiseValue = value;\n",
              "    return next.value.response;\n",
              "  });\n",
              "}\n",
              "\n",
              "/**\n",
              " * Generator function which is called between each async step of the upload\n",
              " * process.\n",
              " * @param {string} inputId Element ID of the input file picker element.\n",
              " * @param {string} outputId Element ID of the output display.\n",
              " * @return {!Iterable<!Object>} Iterable of next steps.\n",
              " */\n",
              "function* uploadFilesStep(inputId, outputId) {\n",
              "  const inputElement = document.getElementById(inputId);\n",
              "  inputElement.disabled = false;\n",
              "\n",
              "  const outputElement = document.getElementById(outputId);\n",
              "  outputElement.innerHTML = '';\n",
              "\n",
              "  const pickedPromise = new Promise((resolve) => {\n",
              "    inputElement.addEventListener('change', (e) => {\n",
              "      resolve(e.target.files);\n",
              "    });\n",
              "  });\n",
              "\n",
              "  const cancel = document.createElement('button');\n",
              "  inputElement.parentElement.appendChild(cancel);\n",
              "  cancel.textContent = 'Cancel upload';\n",
              "  const cancelPromise = new Promise((resolve) => {\n",
              "    cancel.onclick = () => {\n",
              "      resolve(null);\n",
              "    };\n",
              "  });\n",
              "\n",
              "  // Wait for the user to pick the files.\n",
              "  const files = yield {\n",
              "    promise: Promise.race([pickedPromise, cancelPromise]),\n",
              "    response: {\n",
              "      action: 'starting',\n",
              "    }\n",
              "  };\n",
              "\n",
              "  cancel.remove();\n",
              "\n",
              "  // Disable the input element since further picks are not allowed.\n",
              "  inputElement.disabled = true;\n",
              "\n",
              "  if (!files) {\n",
              "    return {\n",
              "      response: {\n",
              "        action: 'complete',\n",
              "      }\n",
              "    };\n",
              "  }\n",
              "\n",
              "  for (const file of files) {\n",
              "    const li = document.createElement('li');\n",
              "    li.append(span(file.name, {fontWeight: 'bold'}));\n",
              "    li.append(span(\n",
              "        `(${file.type || 'n/a'}) - ${file.size} bytes, ` +\n",
              "        `last modified: ${\n",
              "            file.lastModifiedDate ? file.lastModifiedDate.toLocaleDateString() :\n",
              "                                    'n/a'} - `));\n",
              "    const percent = span('0% done');\n",
              "    li.appendChild(percent);\n",
              "\n",
              "    outputElement.appendChild(li);\n",
              "\n",
              "    const fileDataPromise = new Promise((resolve) => {\n",
              "      const reader = new FileReader();\n",
              "      reader.onload = (e) => {\n",
              "        resolve(e.target.result);\n",
              "      };\n",
              "      reader.readAsArrayBuffer(file);\n",
              "    });\n",
              "    // Wait for the data to be ready.\n",
              "    let fileData = yield {\n",
              "      promise: fileDataPromise,\n",
              "      response: {\n",
              "        action: 'continue',\n",
              "      }\n",
              "    };\n",
              "\n",
              "    // Use a chunked sending to avoid message size limits. See b/62115660.\n",
              "    let position = 0;\n",
              "    do {\n",
              "      const length = Math.min(fileData.byteLength - position, MAX_PAYLOAD_SIZE);\n",
              "      const chunk = new Uint8Array(fileData, position, length);\n",
              "      position += length;\n",
              "\n",
              "      const base64 = btoa(String.fromCharCode.apply(null, chunk));\n",
              "      yield {\n",
              "        response: {\n",
              "          action: 'append',\n",
              "          file: file.name,\n",
              "          data: base64,\n",
              "        },\n",
              "      };\n",
              "\n",
              "      let percentDone = fileData.byteLength === 0 ?\n",
              "          100 :\n",
              "          Math.round((position / fileData.byteLength) * 100);\n",
              "      percent.textContent = `${percentDone}% done`;\n",
              "\n",
              "    } while (position < fileData.byteLength);\n",
              "  }\n",
              "\n",
              "  // All done.\n",
              "  yield {\n",
              "    response: {\n",
              "      action: 'complete',\n",
              "    }\n",
              "  };\n",
              "}\n",
              "\n",
              "scope.google = scope.google || {};\n",
              "scope.google.colab = scope.google.colab || {};\n",
              "scope.google.colab._files = {\n",
              "  _uploadFiles,\n",
              "  _uploadFilesContinue,\n",
              "};\n",
              "})(self);\n",
              "</script> "
            ]
          },
          "metadata": {}
        },
        {
          "output_type": "stream",
          "name": "stderr",
          "text": [
            "WARNING:pdfminer.pdfpage:CropBox missing from /Page, defaulting to MediaBox\n"
          ]
        },
        {
          "output_type": "stream",
          "name": "stdout",
          "text": [
            "Saving Sample 1.pdf to Sample 1 (1).pdf\n"
          ]
        },
        {
          "output_type": "stream",
          "name": "stderr",
          "text": [
            "WARNING:pdfminer.pdfpage:CropBox missing from /Page, defaulting to MediaBox\n",
            "Device set to use cpu\n",
            "Your max_length is set to 130, but your input_length is only 106. Since this is a summarization task, where outputs shorter than the input are typically wanted, you might consider decreasing max_length manually, e.g. summarizer('...', max_length=53)\n"
          ]
        },
        {
          "output_type": "display_data",
          "data": {
            "text/plain": [
              "<IPython.core.display.Markdown object>"
            ],
            "text/markdown": "## 🧠 AI BASED MEDICAL REPORT SUMMARIZER"
          },
          "metadata": {}
        },
        {
          "output_type": "display_data",
          "data": {
            "text/plain": [
              "<IPython.core.display.Markdown object>"
            ],
            "text/markdown": "### 🔴 ISSUE THAT NEEDS IMMEDIATE ATTENTION"
          },
          "metadata": {}
        },
        {
          "output_type": "display_data",
          "data": {
            "text/plain": [
              "<IPython.core.display.Markdown object>"
            ],
            "text/markdown": " Williams’ case is critical and demands urgent, coordinated intervention to prevent serious complications and improve overall prognosis."
          },
          "metadata": {}
        },
        {
          "output_type": "display_data",
          "data": {
            "text/plain": [
              "<IPython.core.display.Markdown object>"
            ],
            "text/markdown": "### 🕓 PREVIOUSLY RECEIVED TREATMENT"
          },
          "metadata": {}
        },
        {
          "output_type": "display_data",
          "data": {
            "text/plain": [
              "<IPython.core.display.Markdown object>"
            ],
            "text/markdown": " Two years ago, he was diagnosed with chronic autoimmunekidney disease."
          },
          "metadata": {}
        },
        {
          "output_type": "display_data",
          "data": {
            "text/plain": [
              "<IPython.core.display.Markdown object>"
            ],
            "text/markdown": "### 💊 SUGGESTED TREATMENT"
          },
          "metadata": {}
        },
        {
          "output_type": "display_data",
          "data": {
            "text/plain": [
              "<IPython.core.display.Markdown object>"
            ],
            "text/markdown": " Family involvement was encouraged to support compliance with the management plan."
          },
          "metadata": {}
        },
        {
          "output_type": "display_data",
          "data": {
            "text/plain": [
              "<IPython.core.display.Markdown object>"
            ],
            "text/markdown": "### 🌟 HIGHLIGHTED KEY CONTENT"
          },
          "metadata": {}
        },
        {
          "output_type": "display_data",
          "data": {
            "text/plain": [
              "<IPython.core.display.Markdown object>"
            ],
            "text/markdown": "Robert Williams, a 58-year-old male, presents with a complex history of multiple chronic conditions. He has Type 2 **DIABETES** Mellitus, **HYPERTENSION**, Chronic Kidney Disease (Stage 3), Coronary Artery Disease, and Obesity with a BMI of 34. Two years ago, he was diagnosed with chronic autoimmunekidney disease. He was maintained on dual antiplatelet therapy with aspirin and clopidogrel, along withbeta-blockers and statins for secondary prevention. His blood pressure remains uncontrolled at 160/95 mmHg despite current therapy. Mr. Williams will be transitioned to a basal insulin pump to improve glycemic control. A GLP-1 receptors agonist like Semaglutide will be added to address both weight and blood sugar. Antihypertensive therapy will be intensified. The patient was counseled extensively on the importance of strict medication adherence, diet, and exercise. Family involvement was encouraged to support compliance with the management plan. Mr. Williams’ case is critical and demands urgent, coordinated intervention to prevent serious complications and improve overall prognosis."
          },
          "metadata": {}
        }
      ],
      "source": [
        "# Install dependencies\n",
        "!pip install pdfplumber transformers spacy -q\n",
        "!python -m spacy download en_core_web_sm\n",
        "\n",
        "import pdfplumber\n",
        "import spacy\n",
        "from transformers import pipeline\n",
        "from google.colab import files\n",
        "from IPython.display import Markdown, display\n",
        "import re\n",
        "\n",
        "# Load spaCy NLP model\n",
        "nlp = spacy.load(\"en_core_web_sm\")\n",
        "\n",
        "# Upload PDF file\n",
        "uploaded = files.upload()\n",
        "\n",
        "# Extract text from PDF\n",
        "pdf_text = \"\"\n",
        "for filename in uploaded:\n",
        "    with pdfplumber.open(filename) as pdf:\n",
        "        for page in pdf.pages:\n",
        "            page_text = page.extract_text()\n",
        "            if page_text:\n",
        "                pdf_text += page_text + \"\\n\"\n",
        "\n",
        "# Summarizer pipeline using BART\n",
        "summarizer = pipeline(\"summarization\", model=\"facebook/bart-large-cnn\")\n",
        "\n",
        "# Chunk text (because transformer models have token limits)\n",
        "def split_text(text, max_len=1024):\n",
        "    sentences = re.split(r'(?<=[.])\\s+', text)\n",
        "    chunks, chunk = [], \"\"\n",
        "    for sentence in sentences:\n",
        "        if len(chunk) + len(sentence) < max_len:\n",
        "            chunk += \" \" + sentence\n",
        "        else:\n",
        "            chunks.append(chunk.strip())\n",
        "            chunk = sentence\n",
        "    if chunk:\n",
        "        chunks.append(chunk.strip())\n",
        "    return chunks\n",
        "\n",
        "chunks = split_text(pdf_text)\n",
        "summaries = [summarizer(chunk, max_length=130, min_length=30, do_sample=False)[0]['summary_text'] for chunk in chunks]\n",
        "full_summary = \" \".join(summaries)\n",
        "\n",
        "# Extract sections\n",
        "def extract_section(summary, keywords):\n",
        "    pattern = '|'.join([re.escape(k) for k in keywords])\n",
        "    matches = re.findall(rf\"((?:[^.]*\\b(?:{pattern})\\b[^.]*\\.)+)\", summary, re.IGNORECASE)\n",
        "    return \" \".join(matches) if matches else \"Not found.\"\n",
        "\n",
        "# Section-specific keywords\n",
        "attention_keywords = ['emergency', 'critical', 'immediate', 'urgent', 'unstable']\n",
        "previous_keywords = ['treated', 'underwent', 'received', 'was diagnosed', 'previously']\n",
        "suggested_keywords = ['recommend', 'advise', 'plan', 'consider', 'suggested', 'prescribed']\n",
        "\n",
        "# Extract sections from the summary\n",
        "immediate_attention = extract_section(full_summary, attention_keywords)\n",
        "previous_treatment = extract_section(full_summary, previous_keywords)\n",
        "suggested_treatment = extract_section(full_summary, suggested_keywords)\n",
        "\n",
        "# Highlight key medical terms\n",
        "def highlight_terms(text, terms):\n",
        "    for term in terms:\n",
        "        pattern = re.compile(re.escape(term), re.IGNORECASE)\n",
        "        text = pattern.sub(f\"**{term.upper()}**\", text)\n",
        "    return text\n",
        "\n",
        "medical_terms = ['cancer', 'tumor', 'diabetes', 'hypertension', 'stroke', 'infection', 'surgery', 'chemotherapy']\n",
        "highlighted_summary = highlight_terms(full_summary, medical_terms)\n",
        "\n",
        "# Display results\n",
        "display(Markdown(\"## 🧠 AI BASED MEDICAL REPORT SUMMARIZER\"))\n",
        "display(Markdown(\"### 🔴 ISSUE THAT NEEDS IMMEDIATE ATTENTION\"))\n",
        "display(Markdown(immediate_attention))\n",
        "\n",
        "display(Markdown(\"### 🕓 PREVIOUSLY RECEIVED TREATMENT\"))\n",
        "display(Markdown(previous_treatment))\n",
        "\n",
        "display(Markdown(\"### 💊 SUGGESTED TREATMENT\"))\n",
        "display(Markdown(suggested_treatment))\n",
        "\n",
        "display(Markdown(\"### 🌟 HIGHLIGHTED KEY CONTENT\"))\n",
        "display(Markdown(highlighted_summary[:3000]))  # limit preview\n"
      ]
    }
  ]
}